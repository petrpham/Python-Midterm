{
 "cells": [
  {
   "cell_type": "code",
   "execution_count": 694,
   "metadata": {},
   "outputs": [],
   "source": [
    "import requests\n",
    "import pandas as pd\n",
    "import numpy as np\n",
    "import matplotlib.pyplot as plt\n",
    "from bs4 import BeautifulSoup"
   ]
  },
  {
   "cell_type": "code",
   "execution_count": 1033,
   "metadata": {},
   "outputs": [],
   "source": [
    "class Downloader: # 2. An independent class for `downloader` with appropriate functions and attributes (5pts)\n",
    "    '''\n",
    "    Downloader class for collection of data and storage of results.\n",
    "    '''\n",
    "    def __init__(self, allowLog = True):\n",
    "        '''\n",
    "        Initilization of Downloader object. Storing objects from the webpage with self.qwe, self.rty and self.uio\n",
    "        '''\n",
    "        self.allowLog = allowLog\n",
    "        self.characters = pd.DataFrame()\n",
    "        self.appearance = pd.DataFrame()\n",
    "        self.charlinks = []\n",
    "        if self.allowLog:\n",
    "            print('Downloader initialized.')\n",
    "    \n",
    "    def getsoup(self, link):\n",
    "        '''\n",
    "        Returns soup in xml of from the given link in utf-8 encoding.\n",
    "        '''\n",
    "        self.link = link\n",
    "        r = requests.get(link)\n",
    "        r.encoding='UTF-8'\n",
    "        self.soup = BeautifulSoup(r.text,'lxml')\n",
    "            \n",
    "    def parseLinkClass(self, classatttribute):\n",
    "        \"\"\"\n",
    "        Returns a pandas dataframe of all table cells of with certain class attribute. Used for getting name of characters.\n",
    "        Arguments:\n",
    "        classatttribute: class attribute of the table cells.\n",
    "        \"\"\"\n",
    "        chars = [char.get_text(strip = True) for char in self.soup.findAll('a', {'class', classatttribute})]\n",
    "        self.characters = pd.DataFrame(chars)\n",
    "        #return self.characters\n",
    "    \n",
    "    def getCharLinks(self):\n",
    "        \"\"\"\n",
    "        Returns list of character links.\n",
    "        \"\"\"\n",
    "        charlinks = []\n",
    "        for char in mt.characters[0]:\n",
    "            #print(char)\n",
    "            charlinks.append(str(('http://wiki.lspace.org/mediawiki/' + '_'.join(str(char).split()))))\n",
    "            self.charlinks = charlinks\n",
    "        \n",
    "    def savedfs(self): # 4. `Pandas dataframe` with results saved as an attribute in the `downloader` object (5pts)\n",
    "        '''\n",
    "        Storing characters and appearance from the webpage as pandas DataFrame dictionary.\n",
    "        '''\n",
    "        dfs = {}\n",
    "        dfs['characters'] = self.characters\n",
    "        dfs['appearance'] = self.appearance  \n",
    "        self.resultsdf = dfs\n",
    "        return self.resultsdf"
   ]
  },
  {
   "cell_type": "code",
   "execution_count": 1022,
   "metadata": {
    "scrolled": true
   },
   "outputs": [
    {
     "name": "stdout",
     "output_type": "stream",
     "text": [
      "Downloader initialized.\n"
     ]
    }
   ],
   "source": [
    "mt = Downloader()\n",
    "mt.getsoup(\"http://wiki.lspace.org/mediawiki/List_of_Pratchett_characters\")\n",
    "mt.parseLinkClass('mw-redirect')\n",
    "mt.getCharLinks()"
   ]
  },
  {
   "cell_type": "code",
   "execution_count": 1023,
   "metadata": {
    "scrolled": true
   },
   "outputs": [
    {
     "data": {
      "text/plain": [
       "['http://wiki.lspace.org/mediawiki/Mrs._Cake',\n",
       " 'http://wiki.lspace.org/mediawiki/Mrs._Marietta_Cosmopilite',\n",
       " 'http://wiki.lspace.org/mediawiki/Lady_Sybil_Ramkin',\n",
       " 'http://wiki.lspace.org/mediawiki/Mr._Slant',\n",
       " 'http://wiki.lspace.org/mediawiki/Visit-the-Infidel-with-Explanatory-Pamphlets',\n",
       " 'http://wiki.lspace.org/mediawiki/Equal_Rites',\n",
       " 'http://wiki.lspace.org/mediawiki/Wyrd_Sisters',\n",
       " 'http://wiki.lspace.org/mediawiki/Witches_Abroad',\n",
       " 'http://wiki.lspace.org/mediawiki/Lords_and_Ladies',\n",
       " 'http://wiki.lspace.org/mediawiki/Maskerade',\n",
       " 'http://wiki.lspace.org/mediawiki/Carpe_Jugulum',\n",
       " 'http://wiki.lspace.org/mediawiki/Gytha_Ogg',\n",
       " 'http://wiki.lspace.org/mediawiki/Esmerelda_Weatherwax',\n",
       " 'http://wiki.lspace.org/mediawiki/Soul_Music',\n",
       " 'http://wiki.lspace.org/mediawiki/Thief_of_Time',\n",
       " 'http://wiki.lspace.org/mediawiki/Albert',\n",
       " 'http://wiki.lspace.org/mediawiki/The_Wee_Free_Men',\n",
       " 'http://wiki.lspace.org/mediawiki/A_Hat_Full_of_Sky',\n",
       " 'http://wiki.lspace.org/mediawiki/I_Shall_Wear_Midnight',\n",
       " 'http://wiki.lspace.org/mediawiki/The_Hon._J._Bleedwell',\n",
       " 'http://wiki.lspace.org/mediawiki/Lord_Downey',\n",
       " 'http://wiki.lspace.org/mediawiki/Dr._Lawn',\n",
       " 'http://wiki.lspace.org/mediawiki/Lady_Roberta_Meserole',\n",
       " 'http://wiki.lspace.org/mediawiki/Mr_Shine',\n",
       " 'http://wiki.lspace.org/mediawiki/Mad_Lord_Snapcase',\n",
       " 'http://wiki.lspace.org/mediawiki/Lord_Winder',\n",
       " 'http://wiki.lspace.org/mediawiki/Equal_Rites',\n",
       " 'http://wiki.lspace.org/mediawiki/Sourcery',\n",
       " 'http://wiki.lspace.org/mediawiki/Eric',\n",
       " 'http://wiki.lspace.org/mediawiki/Lords_and_Ladies',\n",
       " 'http://wiki.lspace.org/mediawiki/The_Last_Continent',\n",
       " 'http://wiki.lspace.org/mediawiki/The_Last_Hero',\n",
       " 'http://wiki.lspace.org/mediawiki/Herrena',\n",
       " 'http://wiki.lspace.org/mediawiki/Equal_Rites',\n",
       " 'http://wiki.lspace.org/mediawiki/Wyrd_Sisters',\n",
       " 'http://wiki.lspace.org/mediawiki/Witches_Abroad',\n",
       " 'http://wiki.lspace.org/mediawiki/Lords_and_Ladies',\n",
       " 'http://wiki.lspace.org/mediawiki/Maskerade',\n",
       " 'http://wiki.lspace.org/mediawiki/Carpe_Jugulum',\n",
       " 'http://wiki.lspace.org/mediawiki/Casanunda',\n",
       " 'http://wiki.lspace.org/mediawiki/Old_Mother_Dismass',\n",
       " 'http://wiki.lspace.org/mediawiki/Mr_Pounder',\n",
       " 'http://wiki.lspace.org/mediawiki/Soul_Music',\n",
       " 'http://wiki.lspace.org/mediawiki/Thief_of_Time',\n",
       " 'http://wiki.lspace.org/mediawiki/Mr._Clete',\n",
       " 'http://wiki.lspace.org/mediawiki/The_Wee_Free_Men',\n",
       " 'http://wiki.lspace.org/mediawiki/A_Hat_Full_of_Sky',\n",
       " 'http://wiki.lspace.org/mediawiki/I_Shall_Wear_Midnight',\n",
       " 'http://wiki.lspace.org/mediawiki/Granny_Aching',\n",
       " 'http://wiki.lspace.org/mediawiki/Jenny_Greenteeth',\n",
       " 'http://wiki.lspace.org/mediawiki/Golem',\n",
       " 'http://wiki.lspace.org/mediawiki/Post_Office',\n",
       " 'http://wiki.lspace.org/mediawiki/Mr._Pony',\n",
       " 'http://wiki.lspace.org/mediawiki/Pyramids',\n",
       " 'http://wiki.lspace.org/mediawiki/The_Amazing_Maurice_and_his_Educated_Rodents',\n",
       " 'http://wiki.lspace.org/mediawiki/Monstrous_Regiment',\n",
       " 'http://wiki.lspace.org/mediawiki/Teppic',\n",
       " 'http://wiki.lspace.org/mediawiki/Lady_Margolotta',\n",
       " 'http://wiki.lspace.org/mediawiki/Black_Aliss',\n",
       " 'http://wiki.lspace.org/mediawiki/Beelezebub',\n",
       " 'http://wiki.lspace.org/mediawiki/Warlock',\n",
       " 'http://wiki.lspace.org/mediawiki/Mrs._Deirdre_Young']"
      ]
     },
     "execution_count": 1023,
     "metadata": {},
     "output_type": "execute_result"
    }
   ],
   "source": [
    "# List of links to characters\n",
    "mt.charlinks"
   ]
  },
  {
   "cell_type": "code",
   "execution_count": 995,
   "metadata": {},
   "outputs": [],
   "source": [
    "x = mt.charlinks"
   ]
  },
  {
   "cell_type": "code",
   "execution_count": 1034,
   "metadata": {},
   "outputs": [],
   "source": [
    "class Character(Downloader):\n",
    "    '''\n",
    "    Class representing\n",
    "    Inherits from the Downloader class.\n",
    "    '''\n",
    "    def __init__(self):\n",
    "        '''\n",
    "        Inheriting init of Downloader class.\n",
    "        '''\n",
    "        super().__init__()\n",
    "        if self.allowLog:\n",
    "            print('Character initialized.')\n",
    "        self.appearance = pd.DataFrame\n",
    "    def parseLinkClass2(self, classatttribute):\n",
    "        \"\"\"\n",
    "        Returns a pandas dataframe of all table cells of with certain class attribute. Used for getting character apperance\n",
    "        in books.\n",
    "        Arguments:\n",
    "        classatttribute: class attribute of the table cells.\n",
    "        \"\"\"\n",
    "        books = [book.get_text(strip = True) for book in self.soup.findAll('a', {'href', classatttribute})]\n",
    "        self.appearance = pd.DataFrame(books)"
   ]
  },
  {
   "cell_type": "code",
   "execution_count": 1035,
   "metadata": {},
   "outputs": [
    {
     "name": "stdout",
     "output_type": "stream",
     "text": [
      "Downloader initialized.\n",
      "Character initialized.\n"
     ]
    }
   ],
   "source": [
    "cake = Character()\n",
    "cake.getsoup(\"http://wiki.lspace.org/mediawiki/Mrs._Cake\")"
   ]
  },
  {
   "cell_type": "code",
   "execution_count": 1036,
   "metadata": {},
   "outputs": [],
   "source": [
    "cake.parseLinkClass2('title')"
   ]
  },
  {
   "cell_type": "code",
   "execution_count": 1049,
   "metadata": {},
   "outputs": [
    {
     "data": {
      "text/plain": [
       "[]"
      ]
     },
     "execution_count": 1049,
     "metadata": {},
     "output_type": "execute_result"
    }
   ],
   "source": [
    "cake.soup.find_all('a', src=lambda x: x and 'Book' in x)"
   ]
  },
  {
   "cell_type": "code",
   "execution_count": null,
   "metadata": {},
   "outputs": [],
   "source": [
    "cake.appearance"
   ]
  }
 ],
 "metadata": {
  "hide_input": false,
  "kernelspec": {
   "display_name": "Python 3",
   "language": "python",
   "name": "python3"
  },
  "language_info": {
   "codemirror_mode": {
    "name": "ipython",
    "version": 3
   },
   "file_extension": ".py",
   "mimetype": "text/x-python",
   "name": "python",
   "nbconvert_exporter": "python",
   "pygments_lexer": "ipython3",
   "version": "3.7.3"
  }
 },
 "nbformat": 4,
 "nbformat_minor": 2
}
