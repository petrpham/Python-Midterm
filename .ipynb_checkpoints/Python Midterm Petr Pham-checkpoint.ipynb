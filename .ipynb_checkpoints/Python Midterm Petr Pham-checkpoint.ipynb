{
 "cells": [
  {
   "cell_type": "code",
   "execution_count": 694,
   "metadata": {},
   "outputs": [],
   "source": [
    "import requests\n",
    "import pandas as pd\n",
    "import numpy as np\n",
    "import matplotlib.pyplot as plt\n",
    "from bs4 import BeautifulSoup"
   ]
  },
  {
   "cell_type": "code",
   "execution_count": null,
   "metadata": {},
   "outputs": [],
   "source": [
    "    def parseTDclass(self, classatttribute):\n",
    "        \"\"\"\n",
    "        Returns a list of all table cells of with certain class attribute.\n",
    "        Arguments:\n",
    "        classatttribute: class attribute of the table cells.\n",
    "        \"\"\"\n",
    "        return self.soup.findAll('td', {'class', classatttribute})"
   ]
  },
  {
   "cell_type": "code",
   "execution_count": 1033,
   "metadata": {},
   "outputs": [],
   "source": [
    "class Downloader: # 2. An independent class for `downloader` with appropriate functions and attributes (5pts)\n",
    "    '''\n",
    "    Downloader class for collection of data and storage of results.\n",
    "    '''\n",
    "    def __init__(self, allowLog = True):\n",
    "        '''\n",
    "        Initilization of Downloader object. Storing objects from the webpage with self.qwe, self.rty and self.uio\n",
    "        '''\n",
    "        self.allowLog = allowLog\n",
    "        self.characters = pd.DataFrame()\n",
    "        self.appearance = pd.DataFrame()\n",
    "        self.charlinks = []\n",
    "        if self.allowLog:\n",
    "            print('Downloader initialized.')\n",
    "    \n",
    "    def getsoup(self, link):\n",
    "        '''\n",
    "        Returns soup in xml of from the given link in utf-8 encoding.\n",
    "        '''\n",
    "        self.link = link\n",
    "        r = requests.get(link)\n",
    "        r.encoding='UTF-8'\n",
    "        self.soup = BeautifulSoup(r.text,'lxml')\n",
    "        \n",
    "    def parseH2(self):\n",
    "        '''\n",
    "        Returns a text of first <h2></h2> element in self.soup. \n",
    "        '''\n",
    "        return self.soup.find('h2').text.strip()\n",
    "    \n",
    "    def parseTR(self):\n",
    "        '''\n",
    "        Returns a list of all table rows.\n",
    "        '''\n",
    "        return self.soup.findAll('tr')\n",
    "    \n",
    "    def parseTRclass(self, classatttribute):\n",
    "        '''\n",
    "        Returns a list of all table rows with certain class attribute.\n",
    "        '''\n",
    "        return self.soup.findAll('tr', {'class', classatttribute})\n",
    "\n",
    "            \n",
    "    def parseLinkClass(self, classatttribute):\n",
    "        \"\"\"\n",
    "        Returns a pandas dataframe of all table cells of with certain class attribute. Used for getting name of characters.\n",
    "        Arguments:\n",
    "        classatttribute: class attribute of the table cells.\n",
    "        \"\"\"\n",
    "        chars = [char.get_text(strip = True) for char in self.soup.findAll('a', {'class', classatttribute})]\n",
    "        self.characters = pd.DataFrame(chars)\n",
    "        #return self.characters\n",
    "    \n",
    "    def getCharLinks(self):\n",
    "        \"\"\"\n",
    "        Returns list of character links.\n",
    "        \"\"\"\n",
    "        charlinks = []\n",
    "        for char in mt.characters[0]:\n",
    "            #print(char)\n",
    "            charlinks.append(str(('http://wiki.lspace.org/mediawiki/' + '_'.join(str(char).split()))))\n",
    "            self.charlinks = charlinks\n",
    "        \n",
    "    def savedfs(self): # 4. `Pandas dataframe` with results saved as an attribute in the `downloader` object (5pts)\n",
    "        '''\n",
    "        Storing characters and appearance from the webpage as pandas DataFrame dictionary.\n",
    "        '''\n",
    "        dfs = {}\n",
    "        dfs['characters'] = self.characters\n",
    "        dfs['appearance'] = self.appearance  \n",
    "        self.resultsdf = dfs\n",
    "        return self.resultsdf"
   ]
  },
  {
   "cell_type": "code",
   "execution_count": 1022,
   "metadata": {
    "scrolled": true
   },
   "outputs": [
    {
     "name": "stdout",
     "output_type": "stream",
     "text": [
      "Downloader initialized.\n"
     ]
    }
   ],
   "source": [
    "mt = Downloader()\n",
    "mt.getsoup(\"http://wiki.lspace.org/mediawiki/List_of_Pratchett_characters\")\n",
    "mt.parseLinkClass('mw-redirect')\n",
    "mt.getCharLinks()"
   ]
  },
  {
   "cell_type": "code",
   "execution_count": 1023,
   "metadata": {
    "scrolled": true
   },
   "outputs": [
    {
     "data": {
      "text/plain": [
       "['http://wiki.lspace.org/mediawiki/Mrs._Cake',\n",
       " 'http://wiki.lspace.org/mediawiki/Mrs._Marietta_Cosmopilite',\n",
       " 'http://wiki.lspace.org/mediawiki/Lady_Sybil_Ramkin',\n",
       " 'http://wiki.lspace.org/mediawiki/Mr._Slant',\n",
       " 'http://wiki.lspace.org/mediawiki/Visit-the-Infidel-with-Explanatory-Pamphlets',\n",
       " 'http://wiki.lspace.org/mediawiki/Equal_Rites',\n",
       " 'http://wiki.lspace.org/mediawiki/Wyrd_Sisters',\n",
       " 'http://wiki.lspace.org/mediawiki/Witches_Abroad',\n",
       " 'http://wiki.lspace.org/mediawiki/Lords_and_Ladies',\n",
       " 'http://wiki.lspace.org/mediawiki/Maskerade',\n",
       " 'http://wiki.lspace.org/mediawiki/Carpe_Jugulum',\n",
       " 'http://wiki.lspace.org/mediawiki/Gytha_Ogg',\n",
       " 'http://wiki.lspace.org/mediawiki/Esmerelda_Weatherwax',\n",
       " 'http://wiki.lspace.org/mediawiki/Soul_Music',\n",
       " 'http://wiki.lspace.org/mediawiki/Thief_of_Time',\n",
       " 'http://wiki.lspace.org/mediawiki/Albert',\n",
       " 'http://wiki.lspace.org/mediawiki/The_Wee_Free_Men',\n",
       " 'http://wiki.lspace.org/mediawiki/A_Hat_Full_of_Sky',\n",
       " 'http://wiki.lspace.org/mediawiki/I_Shall_Wear_Midnight',\n",
       " 'http://wiki.lspace.org/mediawiki/The_Hon._J._Bleedwell',\n",
       " 'http://wiki.lspace.org/mediawiki/Lord_Downey',\n",
       " 'http://wiki.lspace.org/mediawiki/Dr._Lawn',\n",
       " 'http://wiki.lspace.org/mediawiki/Lady_Roberta_Meserole',\n",
       " 'http://wiki.lspace.org/mediawiki/Mr_Shine',\n",
       " 'http://wiki.lspace.org/mediawiki/Mad_Lord_Snapcase',\n",
       " 'http://wiki.lspace.org/mediawiki/Lord_Winder',\n",
       " 'http://wiki.lspace.org/mediawiki/Equal_Rites',\n",
       " 'http://wiki.lspace.org/mediawiki/Sourcery',\n",
       " 'http://wiki.lspace.org/mediawiki/Eric',\n",
       " 'http://wiki.lspace.org/mediawiki/Lords_and_Ladies',\n",
       " 'http://wiki.lspace.org/mediawiki/The_Last_Continent',\n",
       " 'http://wiki.lspace.org/mediawiki/The_Last_Hero',\n",
       " 'http://wiki.lspace.org/mediawiki/Herrena',\n",
       " 'http://wiki.lspace.org/mediawiki/Equal_Rites',\n",
       " 'http://wiki.lspace.org/mediawiki/Wyrd_Sisters',\n",
       " 'http://wiki.lspace.org/mediawiki/Witches_Abroad',\n",
       " 'http://wiki.lspace.org/mediawiki/Lords_and_Ladies',\n",
       " 'http://wiki.lspace.org/mediawiki/Maskerade',\n",
       " 'http://wiki.lspace.org/mediawiki/Carpe_Jugulum',\n",
       " 'http://wiki.lspace.org/mediawiki/Casanunda',\n",
       " 'http://wiki.lspace.org/mediawiki/Old_Mother_Dismass',\n",
       " 'http://wiki.lspace.org/mediawiki/Mr_Pounder',\n",
       " 'http://wiki.lspace.org/mediawiki/Soul_Music',\n",
       " 'http://wiki.lspace.org/mediawiki/Thief_of_Time',\n",
       " 'http://wiki.lspace.org/mediawiki/Mr._Clete',\n",
       " 'http://wiki.lspace.org/mediawiki/The_Wee_Free_Men',\n",
       " 'http://wiki.lspace.org/mediawiki/A_Hat_Full_of_Sky',\n",
       " 'http://wiki.lspace.org/mediawiki/I_Shall_Wear_Midnight',\n",
       " 'http://wiki.lspace.org/mediawiki/Granny_Aching',\n",
       " 'http://wiki.lspace.org/mediawiki/Jenny_Greenteeth',\n",
       " 'http://wiki.lspace.org/mediawiki/Golem',\n",
       " 'http://wiki.lspace.org/mediawiki/Post_Office',\n",
       " 'http://wiki.lspace.org/mediawiki/Mr._Pony',\n",
       " 'http://wiki.lspace.org/mediawiki/Pyramids',\n",
       " 'http://wiki.lspace.org/mediawiki/The_Amazing_Maurice_and_his_Educated_Rodents',\n",
       " 'http://wiki.lspace.org/mediawiki/Monstrous_Regiment',\n",
       " 'http://wiki.lspace.org/mediawiki/Teppic',\n",
       " 'http://wiki.lspace.org/mediawiki/Lady_Margolotta',\n",
       " 'http://wiki.lspace.org/mediawiki/Black_Aliss',\n",
       " 'http://wiki.lspace.org/mediawiki/Beelezebub',\n",
       " 'http://wiki.lspace.org/mediawiki/Warlock',\n",
       " 'http://wiki.lspace.org/mediawiki/Mrs._Deirdre_Young']"
      ]
     },
     "execution_count": 1023,
     "metadata": {},
     "output_type": "execute_result"
    }
   ],
   "source": [
    "# List of links to characters\n",
    "mt.charlinks"
   ]
  },
  {
   "cell_type": "code",
   "execution_count": 995,
   "metadata": {},
   "outputs": [],
   "source": [
    "x = mt.charlinks"
   ]
  },
  {
   "cell_type": "code",
   "execution_count": 1034,
   "metadata": {},
   "outputs": [],
   "source": [
    "class Character(Downloader):\n",
    "    '''\n",
    "    Class representing\n",
    "    Inherits from the Downloader class.\n",
    "    '''\n",
    "    def __init__(self):\n",
    "        '''\n",
    "        Inheriting init of Downloader class.\n",
    "        '''\n",
    "        super().__init__()\n",
    "        if self.allowLog:\n",
    "            print('Character initialized.')\n",
    "        self.appearance = pd.DataFrame\n",
    "    def parseLinkClass2(self, classatttribute):\n",
    "        \"\"\"\n",
    "        Returns a pandas dataframe of all table cells of with certain class attribute. Used for getting character apperance\n",
    "        in books.\n",
    "        Arguments:\n",
    "        classatttribute: class attribute of the table cells.\n",
    "        \"\"\"\n",
    "        books = [book.get_text(strip = True) for book in self.soup.findAll('a', {'href', classatttribute})]\n",
    "        self.appearance = pd.DataFrame(books)"
   ]
  },
  {
   "cell_type": "code",
   "execution_count": 1035,
   "metadata": {},
   "outputs": [
    {
     "name": "stdout",
     "output_type": "stream",
     "text": [
      "Downloader initialized.\n",
      "Character initialized.\n"
     ]
    }
   ],
   "source": [
    "cake = Character()\n",
    "cake.getsoup(\"http://wiki.lspace.org/mediawiki/Mrs._Cake\")"
   ]
  },
  {
   "cell_type": "code",
   "execution_count": 1036,
   "metadata": {},
   "outputs": [],
   "source": [
    "cake.parseLinkClass2('title')"
   ]
  },
  {
   "cell_type": "code",
   "execution_count": 1046,
   "metadata": {},
   "outputs": [
    {
     "data": {
      "text/plain": [
       "[<a id=\"top\"></a>,\n",
       " <a class=\"mw-redirect\" href=\"/mediawiki/index.php?title=Mrs._Cake&amp;redirect=no\" title=\"Mrs. Cake\">Mrs. Cake</a>,\n",
       " <a href=\"#column-one\">navigation</a>,\n",
       " <a href=\"#searchInput\">search</a>,\n",
       " <a class=\"image\" href=\"/mediawiki/File:Blank.jpg\"><img alt=\"Blank.jpg\" class=\"thumbimage\" height=\"2\" src=\"/mediawiki/images/e/eb/Blank.jpg\" width=\"240\"/></a>,\n",
       " <a class=\"internal\" href=\"/mediawiki/File:Blank.jpg\" title=\"Enlarge\"></a>,\n",
       " <a href=\"/mediawiki/Erasmus\" title=\"Erasmus\">Erasmus</a>,\n",
       " <a href=\"/mediawiki/Ludmilla_Cake\" title=\"Ludmilla Cake\">Ludmilla Cake</a>,\n",
       " <a href=\"/mediawiki/Bibliography\" title=\"Bibliography\">Books</a>,\n",
       " <a href=\"/mediawiki/Book:Reaper_Man\" title=\"Book:Reaper Man\">Reaper Man</a>,\n",
       " <a href=\"/mediawiki/Book:Men_at_Arms\" title=\"Book:Men at Arms\">Men at Arms</a>,\n",
       " <a href=\"/mediawiki/Bibliography\" title=\"Bibliography\">Cameos</a>,\n",
       " <a href=\"/mediawiki/Book:Jingo\" title=\"Book:Jingo\">Jingo</a>,\n",
       " <a href=\"/mediawiki/Book:Going_Postal\" title=\"Book:Going Postal\">Going Postal</a>,\n",
       " <a href=\"/mediawiki/Book:Making_Money\" title=\"Book:Making Money\">Making Money</a>,\n",
       " <a href=\"/mediawiki/Ankh-Morpork\" title=\"Ankh-Morpork\">Ankh-Morpork</a>,\n",
       " <a class=\"mw-redirect\" href=\"/mediawiki/Post_Office\" title=\"Post Office\">Post Office</a>,\n",
       " <a href=\"/mediawiki/Offler\" title=\"Offler\">Offler</a>,\n",
       " <a href=\"/mediawiki/Klatch_(continent)\" title=\"Klatch (continent)\">Klatch</a>,\n",
       " <a href=\"/mediawiki/Book:Reaper_Man\" title=\"Book:Reaper Man\">Reaper Man</a>,\n",
       " <a class=\"mw-redirect\" href=\"/mediawiki/Witches_magic\" title=\"Witches magic\">witch</a>,\n",
       " <a href=\"/mediawiki/Ankh-Morpork\" title=\"Ankh-Morpork\">Ankh-Morpork</a>,\n",
       " <a href=\"/mediawiki/Recursion\" title=\"Recursion\">terrible headache</a>,\n",
       " <a href=\"/mediawiki/Spirit_guide\" title=\"Spirit guide\">spirit guide</a>,\n",
       " <a href=\"/mediawiki/One-Man-Bucket\" title=\"One-Man-Bucket\">One-Man-Bucket</a>,\n",
       " <a href=\"/mediawiki/Ludmilla_Cake\" title=\"Ludmilla Cake\">Ludmilla Cake</a>,\n",
       " <a href=\"/mediawiki/Werewolves\" title=\"Werewolves\">werewolf</a>,\n",
       " <a href=\"/mediawiki/Book:Reaper_Man\" title=\"Book:Reaper Man\">Reaper Man</a>,\n",
       " <a href=\"/mediawiki/Zombies\" title=\"Zombies\">zombie</a>,\n",
       " <a href=\"/mediawiki/Reg_Shoe\" title=\"Reg Shoe\">Reg Shoe</a>,\n",
       " <a href=\"/mediawiki/Angua_von_%C3%9Cberwald\" title=\"Angua von Überwald\">Angua von Überwald</a>,\n",
       " <a href=\"/mediawiki/Vampires\" title=\"Vampires\">vampires</a>,\n",
       " <a href=\"/mediawiki/Notfaroutoe\" title=\"Notfaroutoe\">Notfaroutoe</a>,\n",
       " <a href=\"/mediawiki/Book:Men_at_Arms\" title=\"Book:Men at Arms\">Men at Arms</a>,\n",
       " <a href=\"/mediawiki/Book:Making_Money\" title=\"Book:Making Money\">Making Money</a>,\n",
       " <a href=\"/mediawiki/Mavolio_Bent\" title=\"Mavolio Bent\">Mavolio Bent</a>,\n",
       " <a href=\"/mediawiki/Czol\" title=\"Czol\">Czol</a>,\n",
       " <a href=\"/mediawiki/Anghammarad\" title=\"Anghammarad\">Anghammarad</a>,\n",
       " <a href=\"/mediawiki/Golems\" title=\"Golems\">golem</a>,\n",
       " <a href=\"/mediawiki/Harms-Beetle\" title=\"Harms-Beetle\">Mrs Harms-Beetle</a>,\n",
       " <a href=\"/mediawiki/Welcome_Soap\" title=\"Welcome Soap\">Welcome Soap</a>,\n",
       " <a dir=\"ltr\" href=\"http://wiki.lspace.org/mediawiki/index.php?title=Evadne_Cake&amp;oldid=29187\">http://wiki.lspace.org/mediawiki/index.php?title=Evadne_Cake&amp;oldid=29187</a>,\n",
       " <a href=\"/mediawiki/Special:Categories\" title=\"Special:Categories\">Categories</a>,\n",
       " <a href=\"/mediawiki/Category:Discworld_characters\" title=\"Category:Discworld characters\">Discworld characters</a>,\n",
       " <a href=\"/mediawiki/Category:Supporting_characters\" title=\"Category:Supporting characters\">Supporting characters</a>,\n",
       " <a href=\"/mediawiki/Category:Human_characters\" title=\"Category:Human characters\">Human characters</a>,\n",
       " <a accesskey=\"c\" href=\"/mediawiki/Evadne_Cake\" title=\"View the content page [c]\">Page</a>,\n",
       " <a accesskey=\"t\" href=\"/mediawiki/Talk:Evadne_Cake\" rel=\"discussion\" title=\"Discussion about the content page [t]\">Discussion</a>,\n",
       " <a accesskey=\"e\" href=\"/mediawiki/index.php?title=Evadne_Cake&amp;action=edit\" title=\"This page is protected.\n",
       " You can view its source [e]\">View source</a>,\n",
       " <a accesskey=\"h\" href=\"/mediawiki/index.php?title=Evadne_Cake&amp;action=history\" title=\"Past revisions of this page [h]\">History</a>,\n",
       " <a href=\"/mediawiki/index.php?title=Special:CreateAccount&amp;returnto=Evadne+Cake\" title=\"You are encouraged to create an account and log in; however, it is not mandatory\">Create account</a>,\n",
       " <a accesskey=\"o\" href=\"/mediawiki/index.php?title=Special:UserLogin&amp;returnto=Evadne+Cake\" title=\"You are encouraged to log in; however, it is not mandatory [o]\">Log in</a>,\n",
       " <a class=\"mw-wiki-logo\" href=\"/mediawiki/Main_Page\" title=\"Visit the main page\"></a>,\n",
       " <a accesskey=\"z\" href=\"/mediawiki/Main_Page\" title=\"Visit the main page [z]\">Main Page</a>,\n",
       " <a accesskey=\"r\" href=\"/mediawiki/Special:RecentChanges\" title=\"A list of recent changes in the wiki [r]\">Recent changes</a>,\n",
       " <a accesskey=\"x\" href=\"/mediawiki/Special:Random\" title=\"Load a random page [x]\">Random page</a>,\n",
       " <a href=\"/mediawiki/Bibliography\">Bibliography</a>,\n",
       " <a href=\"/mediawiki/Discworld_%26_Pratchett_Wiki:Mended_Drum\">Mended Drum</a>,\n",
       " <a href=\"/mediawiki/List_of_Pratchett_characters\">Characters</a>,\n",
       " <a href=\"/mediawiki/List_of_Discworld_locations\">Locations</a>,\n",
       " <a href=\"/mediawiki/Discworld_Stuff\">Stuff</a>,\n",
       " <a href=\"/mediawiki/Category:Stubs\">Incomplete articles</a>,\n",
       " <a href=\"/mediawiki/Fandom\">Fandom</a>,\n",
       " <a accesskey=\"j\" href=\"/mediawiki/Special:WhatLinksHere/Evadne_Cake\" title=\"A list of all wiki pages that link here [j]\">What links here</a>,\n",
       " <a accesskey=\"k\" href=\"/mediawiki/Special:RecentChangesLinked/Evadne_Cake\" rel=\"nofollow\" title=\"Recent changes in pages linked from this page [k]\">Related changes</a>,\n",
       " <a accesskey=\"q\" href=\"/mediawiki/Special:SpecialPages\" title=\"A list of all special pages [q]\">Special pages</a>,\n",
       " <a accesskey=\"p\" href=\"/mediawiki/index.php?title=Evadne_Cake&amp;printable=yes\" rel=\"alternate\" title=\"Printable version of this page [p]\">Printable version</a>,\n",
       " <a href=\"/mediawiki/index.php?title=Evadne_Cake&amp;oldid=29187\" title=\"Permanent link to this revision of the page\">Permanent link</a>,\n",
       " <a href=\"/mediawiki/index.php?title=Evadne_Cake&amp;action=info\" title=\"More information about this page\">Page information</a>,\n",
       " <a class=\"interlanguage-link-target\" href=\"http://www.thediscworld.de/index.php/Evadne_Kuchen\" hreflang=\"de\" lang=\"de\" title=\"Evadne Kuchen – Deutsch\">Deutsch</a>,\n",
       " <a href=\"http://creativecommons.org/licenses/by-nc-sa/3.0/\"><img alt=\"Creative Commons Attribution Non-Commercial Share Alike\" height=\"31\" src=\"/mediawiki/resources/assets/licenses/cc-by-nc-sa.png\" width=\"88\"/></a>,\n",
       " <a href=\"//www.mediawiki.org/\"><img alt=\"Powered by MediaWiki\" height=\"31\" src=\"/mediawiki/resources/assets/poweredby_mediawiki_88x31.png\" srcset=\"/mediawiki/resources/assets/poweredby_mediawiki_132x47.png 1.5x, /mediawiki/resources/assets/poweredby_mediawiki_176x62.png 2x\" width=\"88\"/></a>,\n",
       " <a class=\"external\" href=\"http://creativecommons.org/licenses/by-nc-sa/3.0/\" rel=\"nofollow\">Creative Commons Attribution Non-Commercial Share Alike</a>,\n",
       " <a href=\"/mediawiki/Discworld_%26_Terry_Pratchett_Wiki:Privacy_policy\" title=\"Discworld &amp; Terry Pratchett Wiki:Privacy policy\">Privacy policy</a>,\n",
       " <a href=\"/mediawiki/Discworld_%26_Terry_Pratchett_Wiki:About\" title=\"Discworld &amp; Terry Pratchett Wiki:About\">About Discworld &amp; Terry Pratchett Wiki</a>,\n",
       " <a href=\"/mediawiki/Discworld_%26_Terry_Pratchett_Wiki:General_disclaimer\" title=\"Discworld &amp; Terry Pratchett Wiki:General disclaimer\">Disclaimers</a>]"
      ]
     },
     "execution_count": 1046,
     "metadata": {},
     "output_type": "execute_result"
    }
   ],
   "source": [
    "cake.soup.find_all('a', )"
   ]
  },
  {
   "cell_type": "code",
   "execution_count": null,
   "metadata": {},
   "outputs": [],
   "source": [
    "cake.appearance"
   ]
  }
 ],
 "metadata": {
  "hide_input": false,
  "kernelspec": {
   "display_name": "Python 3",
   "language": "python",
   "name": "python3"
  },
  "language_info": {
   "codemirror_mode": {
    "name": "ipython",
    "version": 3
   },
   "file_extension": ".py",
   "mimetype": "text/x-python",
   "name": "python",
   "nbconvert_exporter": "python",
   "pygments_lexer": "ipython3",
   "version": "3.7.3"
  }
 },
 "nbformat": 4,
 "nbformat_minor": 2
}
